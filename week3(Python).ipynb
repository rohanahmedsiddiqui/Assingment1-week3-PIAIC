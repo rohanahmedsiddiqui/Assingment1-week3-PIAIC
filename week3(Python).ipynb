{
 "cells": [
  {
   "cell_type": "markdown",
   "id": "05528e85",
   "metadata": {},
   "source": [
    "# Task no 1"
   ]
  },
  {
   "cell_type": "code",
   "execution_count": 8,
   "id": "52e46441",
   "metadata": {},
   "outputs": [
    {
     "name": "stdout",
     "output_type": "stream",
     "text": [
      "please enter your number 1: 22\n",
      "please enter your number 2: 2\n",
      "After mulitply output is: 44\n"
     ]
    }
   ],
   "source": [
    "num1 = input(\"please enter your number 1: \")\n",
    "num2 = input(\"please enter your number 2: \")\n",
    "multiply = int(num1) * int(num2)\n",
    "print(\"After mulitply output is: \" + str(multiply))"
   ]
  },
  {
   "cell_type": "code",
   "execution_count": 11,
   "id": "aade5e90",
   "metadata": {},
   "outputs": [
    {
     "name": "stdout",
     "output_type": "stream",
     "text": [
      "please enter your number 1: 2\n",
      "please enter your number 2: 1\n",
      "After divide output is: 2.0\n"
     ]
    }
   ],
   "source": [
    "num1 = input(\"please enter your number 1: \")\n",
    "num2 = input(\"please enter your number 2: \")\n",
    "divide = int(num1) / int(num2)\n",
    "print(\"After divide output is: \" + str(divide))"
   ]
  },
  {
   "cell_type": "code",
   "execution_count": 12,
   "id": "3bb04974",
   "metadata": {},
   "outputs": [
    {
     "name": "stdout",
     "output_type": "stream",
     "text": [
      "please enter your number 1: 22\n",
      "please enter your number 2: 2\n",
      "After adding output is: 24\n"
     ]
    }
   ],
   "source": [
    "num1 = input(\"please enter your number 1: \")\n",
    "num2 = input(\"please enter your number 2: \")\n",
    "addition = int(num1) + int(num2)\n",
    "print(\"After adding output is: \" + str(addition))"
   ]
  },
  {
   "cell_type": "code",
   "execution_count": 14,
   "id": "01a7882f",
   "metadata": {},
   "outputs": [
    {
     "name": "stdout",
     "output_type": "stream",
     "text": [
      "please enter your number 1: 22\n",
      "please enter your number 2: 2\n",
      "After subtracting output is: 20\n"
     ]
    }
   ],
   "source": [
    "num1 = input(\"please enter your number 1: \")\n",
    "num2 = input(\"please enter your number 2: \")\n",
    "Subtraction = int(num1) - int(num2)\n",
    "print(\"After subtracting output is: \" + str(Subtraction))"
   ]
  },
  {
   "cell_type": "markdown",
   "id": "7e0c4e43",
   "metadata": {},
   "source": [
    "# Task no 2"
   ]
  },
  {
   "cell_type": "code",
   "execution_count": 22,
   "id": "f1a3fe41",
   "metadata": {},
   "outputs": [
    {
     "name": "stdout",
     "output_type": "stream",
     "text": [
      "Please entery your nationality: Pakistani\n",
      "Please enter your age: 17\n",
      "your age is not matched\n"
     ]
    }
   ],
   "source": [
    "nationality = input(\"Please entery your nationality: \")\n",
    "if nationality == \"Pakistani\":\n",
    "    age = int(input(\"Please enter your age: \"))\n",
    "    if age >= 18:\n",
    "        print(\"you are able to cast your vote\")\n",
    "    else:\n",
    "        print(\"your age is not matched\")\n",
    "else:\n",
    "    print(\"you are not the citizen of pakistan\")"
   ]
  },
  {
   "cell_type": "markdown",
   "id": "4313686d",
   "metadata": {},
   "source": [
    "# Task no 3"
   ]
  },
  {
   "cell_type": "code",
   "execution_count": 27,
   "id": "4657931e",
   "metadata": {},
   "outputs": [
    {
     "name": "stdout",
     "output_type": "stream",
     "text": [
      "Please Enter your country name: turkey\n",
      "Hello turkey\n"
     ]
    }
   ],
   "source": [
    "greeting = \"Hello\"\n",
    "country = input(\"Please Enter your country name: \")\n",
    "country_greeting = greeting + \" \" + country\n",
    "print(country_greeting)"
   ]
  },
  {
   "cell_type": "markdown",
   "id": "2804d68c",
   "metadata": {},
   "source": [
    "# Task no 4"
   ]
  },
  {
   "cell_type": "code",
   "execution_count": null,
   "id": "f5bb9828",
   "metadata": {},
   "outputs": [],
   "source": [
    "maths_marks = int(input(\"Please enter your math marks: \"))\n",
    "urdu_marks = int(input(\"Please enter your urdu marks: \"))\n",
    "islamiat_marks = int(input(\"Please enter your islamiat marks: \"))\n",
    "english_marks = int(input(\"Please enter your english marks: \"))\n",
    "obtain_marks = maths_marks + english_marks + urdu_marks + islamiat_marks\n",
    "total_marks = 400\n",
    "percentage = (obtain_marks/total_marks) * 100\n",
    "print(percentage)\n",
    "\n",
    "if percentage >= 80 or percentage <= 100:\n",
    "    print(\"A1 Grade\")\n",
    "elif percentage >= 70 or percentage <= 79:\n",
    "    print(\"A Grade\")\n",
    "elif percentage >= 60 or percentage <= 69:\n",
    "    print(\"B Grade\")\n",
    "elif percentage >= 50 or percentage <= 59:\n",
    "    print(\"C Grade\")\n",
    "elif percentage >= 40 or percentage <= 49:\n",
    "    print(\"D Grade\")\n",
    "elif percentage >= 33 or percentage <= 39:\n",
    "    print(\"E Grade\")\n",
    "else:\n",
    "    print(\"failed\")\n"
   ]
  }
 ],
 "metadata": {
  "kernelspec": {
   "display_name": "Python 3 (ipykernel)",
   "language": "python",
   "name": "python3"
  },
  "language_info": {
   "codemirror_mode": {
    "name": "ipython",
    "version": 3
   },
   "file_extension": ".py",
   "mimetype": "text/x-python",
   "name": "python",
   "nbconvert_exporter": "python",
   "pygments_lexer": "ipython3",
   "version": "3.9.7"
  }
 },
 "nbformat": 4,
 "nbformat_minor": 5
}
