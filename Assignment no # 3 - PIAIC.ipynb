{
 "cells": [
  {
   "cell_type": "code",
   "execution_count": 2,
   "id": "df893078",
   "metadata": {},
   "outputs": [
    {
     "name": "stdout",
     "output_type": "stream",
     "text": [
      "please try again\n"
     ]
    }
   ],
   "source": [
    "# Simple Message: Assign a message to a variable, \n",
    "# and then print that message?\n",
    "\n",
    "message = \"please try again\"\n",
    "print(message)"
   ]
  },
  {
   "cell_type": "code",
   "execution_count": 14,
   "id": "abaa0d31",
   "metadata": {},
   "outputs": [
    {
     "name": "stdout",
     "output_type": "stream",
     "text": [
      "Banjamen franklin once said, \"WELL DONE IS BETTER THAN WELL SAID\"\n"
     ]
    }
   ],
   "source": [
    "# Find a quote from a famous person you admire. Print the quote \n",
    "# and the name of its author. Your output should look something \n",
    "# like the following, including the quotation marks:\n",
    "# Albert Einstein once said, \n",
    "# “A person who never made a mistake never tried anything new.”\n",
    "\n",
    "\n",
    "print('Banjamen franklin once said, \"WELL DONE IS BETTER THAN WELL SAID\"')"
   ]
  },
  {
   "cell_type": "code",
   "execution_count": 20,
   "id": "4991700d",
   "metadata": {},
   "outputs": [
    {
     "name": "stdout",
     "output_type": "stream",
     "text": [
      "Please enter radius 12\n",
      "Area of circle is: 452.16\n"
     ]
    }
   ],
   "source": [
    "# Calculate Area of a Circle:\n",
    "# Write a Python program which accepts the radius of a circle from the user\n",
    "# and compute the area.\n",
    "\n",
    "radius_of_circle = int(input(\"Please enter radius \"))\n",
    "\n",
    "Area_of_circle = (3.14)*(radius_of_circle**2)\n",
    "print(\"Area of circle is:\",Area_of_circle)"
   ]
  },
  {
   "cell_type": "code",
   "execution_count": 26,
   "id": "106b3c1d",
   "metadata": {},
   "outputs": [
    {
     "name": "stdout",
     "output_type": "stream",
     "text": [
      "Please enter a number to check Status of that number 0\n",
      "Zero Entered\n"
     ]
    }
   ],
   "source": [
    "# Check Number either positive, negative or zero::\n",
    "# Write a Python program to check if a number is positive,negative or zero.\n",
    "\n",
    "number_check = int(input(\"Please enter a number to check Status of that number \"))\n",
    "if number_check >= 1:\n",
    "    print(\"Positive number entered\")\n",
    "elif number_check <= -1:\n",
    "    print(\"Negative number entered\")\n",
    "else:\n",
    "    print(\"Zero Entered\")"
   ]
  },
  {
   "cell_type": "code",
   "execution_count": 68,
   "id": "d7641c44",
   "metadata": {},
   "outputs": [
    {
     "name": "stdout",
     "output_type": "stream",
     "text": [
      "Enter a character: E\n",
      "letter E is a vowel \n"
     ]
    }
   ],
   "source": [
    "vowels_letter = [\"A\",\"E\",\"I\",\"O\",\"U\"]\n",
    "user_input1 = input(\"Enter a character: \")\n",
    "for i in vowels_letter:\n",
    "    if user_input1.upper() == i: \n",
    "        print(\"letter \" + user_input1 + \" is a vowel \")\n",
    "        break\n",
    "else:\n",
    "    print(\"letter \" + user_input1 + \" is not a vowel\")\n",
    "    "
   ]
  },
  {
   "cell_type": "markdown",
   "id": "cac44aa1",
   "metadata": {},
   "source": [
    "# BMI CALCULATOR"
   ]
  },
  {
   "cell_type": "code",
   "execution_count": 15,
   "id": "4a8acc69",
   "metadata": {},
   "outputs": [
    {
     "name": "stdout",
     "output_type": "stream",
     "text": [
      "Height entered in cm: 205\n",
      "Weight entered in kg: 70\n",
      "Your BMI is: 16.66\n"
     ]
    }
   ],
   "source": [
    "height_in_cm = int(input(\"Height entered in cm: \"))\n",
    "weight_in_kg = int(input(\"Weight entered in kg: \"))\n",
    "\n",
    "conversionHeightIn_squareMeter = (height_in_cm/100)**2\n",
    "bmiCalculation = weight_in_kg/conversionHeightIn_squareMeter\n",
    "print(\"Your BMI is: \" + str(round(bmiCalculation,2)))"
   ]
  },
  {
   "cell_type": "markdown",
   "id": "99fe6e4c",
   "metadata": {},
   "source": [
    "# Store the names of a few of your friends in a list called names"
   ]
  },
  {
   "cell_type": "raw",
   "id": "c6e7f80b",
   "metadata": {},
   "source": [
    "Print each person’s name by accessing each element in the list, one at a time"
   ]
  },
  {
   "cell_type": "code",
   "execution_count": 16,
   "id": "48c03044",
   "metadata": {},
   "outputs": [
    {
     "name": "stdout",
     "output_type": "stream",
     "text": [
      "mohsin\n",
      "kamran\n",
      "Anas\n",
      "usman\n",
      "omer\n",
      "sufyan\n",
      "mehmood\n"
     ]
    }
   ],
   "source": [
    "names = [\"mohsin\",\"kamran\",\"Anas\",\"usman\",\"omer\",\"sufyan\",\"mehmood\"]\n",
    "for name in names:\n",
    "    print(name)"
   ]
  },
  {
   "cell_type": "raw",
   "id": "89bd62e3",
   "metadata": {},
   "source": [
    "Start with the list you used in Question 4, but instead of just printing each person’s name, print a message to them. The text of each message should be the same, but each message should be personalized with the person’s name."
   ]
  },
  {
   "cell_type": "code",
   "execution_count": 20,
   "id": "20c52d2e",
   "metadata": {},
   "outputs": [
    {
     "name": "stdout",
     "output_type": "stream",
     "text": [
      "hello mohsin\n",
      "hello kamran\n",
      "hello Anas\n",
      "hello usman\n",
      "hello omer\n",
      "hello sufyan\n",
      "hello mehmood\n"
     ]
    }
   ],
   "source": [
    "for name in names:\n",
    "    print(\"hello\",name)"
   ]
  },
  {
   "cell_type": "raw",
   "id": "56f19043",
   "metadata": {},
   "source": [
    "10.Make a python program that conatains your nine favourite dishes in a list called foods. Print the message, The first three items in the list are:\n",
    "Then use a slice to print the first three items from that program’s list.\n",
    "Print the message, Three items from the middle of the list are:\n",
    "Use a slice to print three items from the middle of the list.\n",
    "Print the message, The last three items in the list are:\n",
    "Use a slice to print the last three items in the list."
   ]
  },
  {
   "cell_type": "code",
   "execution_count": 2,
   "id": "a19a89e5",
   "metadata": {},
   "outputs": [],
   "source": [
    "foods = [\"biryani\",\"beef kabab\",\"chicken tikka\",\"Nihari\",\"haleem\",\n",
    "         \"halwa pori\",\"zarda\",\"paratha\",\"sajji\"]"
   ]
  },
  {
   "cell_type": "code",
   "execution_count": 44,
   "id": "b6a89268",
   "metadata": {},
   "outputs": [
    {
     "name": "stdout",
     "output_type": "stream",
     "text": [
      "First three item of the list are ['biryani', 'beef kabab', 'chicken tikka']\n",
      "Three item from the middle of the list are ['Nihari', 'haleem', 'halwa pori']\n",
      "The last three item of the list are ['zarda', 'paratha', 'sajji']\n"
     ]
    }
   ],
   "source": [
    "print(\"First three item of the list are\",foods[:3])\n",
    "print(\"Three item from the middle of the list are\",foods[3:6])\n",
    "print(\"The last three item of the list are\",foods[6:])"
   ]
  },
  {
   "cell_type": "code",
   "execution_count": 79,
   "id": "173f0cef",
   "metadata": {},
   "outputs": [
    {
     "name": "stdout",
     "output_type": "stream",
     "text": [
      "['biryani', 'beef kabab', 'chicken tikka', 'Nihari', 'haleem', 'halwa pori', 'zarda', 'paratha', 'sajji', 'daal chawal']\n",
      "['biryani', 'beef kabab', 'chicken tikka', 'Nihari', 'haleem', 'halwa pori', 'zarda', 'paratha', 'sajji', 'pasta']\n"
     ]
    }
   ],
   "source": [
    "foods = [\"biryani\",\"beef kabab\",\"chicken tikka\",\"Nihari\",\"haleem\",\n",
    "         \"halwa pori\",\"zarda\",\"paratha\",\"sajji\"]\n",
    "\n",
    "friends_foods = foods.copy()\n",
    "\n",
    "\n",
    "foods.insert(len(foods),\"daal chawal\")\n",
    "friends_foods.insert(len(friends_foods),\"pasta\")\n",
    "\n",
    "print(foods)\n",
    "print(friends_foods)"
   ]
  },
  {
   "cell_type": "code",
   "execution_count": 101,
   "id": "df9f0c9e",
   "metadata": {},
   "outputs": [
    {
     "name": "stdout",
     "output_type": "stream",
     "text": [
      "\"My favourite pizzas are:\"\n",
      "biryani\n",
      "beef kabab\n",
      "chicken tikka\n",
      "Nihari\n",
      "haleem\n",
      "halwa pori\n",
      "zarda\n",
      "paratha\n",
      "sajji\n",
      "daal chawal\n",
      "\n",
      "\n",
      "\"My friend's favourite foods are:\"\n",
      "biryani\n",
      "beef kabab\n",
      "chicken tikka\n",
      "Nihari\n",
      "haleem\n",
      "halwa pori\n",
      "zarda\n",
      "paratha\n",
      "sajji\n",
      "pasta\n"
     ]
    }
   ],
   "source": [
    "print('\"My favourite pizzas are:\"')\n",
    "for a in foods:\n",
    "    print(a)\n",
    "    \n",
    "print(\"\\n\")\n",
    "\n",
    "print(\"\\\"My friend's favourite foods are:\\\"\")\n",
    "for b in friends_foods:\n",
    "    print(b)"
   ]
  }
 ],
 "metadata": {
  "kernelspec": {
   "display_name": "Python 3 (ipykernel)",
   "language": "python",
   "name": "python3"
  },
  "language_info": {
   "codemirror_mode": {
    "name": "ipython",
    "version": 3
   },
   "file_extension": ".py",
   "mimetype": "text/x-python",
   "name": "python",
   "nbconvert_exporter": "python",
   "pygments_lexer": "ipython3",
   "version": "3.9.7"
  }
 },
 "nbformat": 4,
 "nbformat_minor": 5
}
